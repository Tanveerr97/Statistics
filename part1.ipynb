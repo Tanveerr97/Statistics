{
 "cells": [
  {
   "cell_type": "code",
   "execution_count": 1,
   "metadata": {},
   "outputs": [
    {
     "name": "stdout",
     "output_type": "stream",
     "text": [
      "             smoking  lung_cancer\n",
      "smoking          1.0          1.0\n",
      "lung_cancer      1.0          1.0\n"
     ]
    }
   ],
   "source": [
    "# Correlation between variables like smoking and lung_cancer could help identify how smoking is linked to lung cancer\n",
    "# correlation measures the relationship between two or more variables. It tells you how strongly the variables are related to each other and in what direction (positive or negative).\n",
    "import pandas as pd\n",
    "\n",
    "data = {\n",
    "    'smoking': [1, 0, 1, 1, 0, 1, 0, 1, 0, 1],  # 1 = Smoker, 0 = Non-smoker\n",
    "    'lung_cancer': [1, 0, 1, 1, 0, 1, 0, 1, 0, 1]  # 1 = Lung Cancer, 0 = No Lung Cancer\n",
    "}\n",
    "\n",
    "df = pd.DataFrame(data)\n",
    "\n",
    "# Calculate the correlation between 'smoking' and 'lung_cancer'\n",
    "correlation = df.corr()\n",
    "print(correlation)\n",
    "# Pearson’s correlation coefficient ranges from -1 (perfect negative correlation) to +1 (perfect positive correlation). A value closer to 1 suggests a strong positive relationship between the two variables.\n",
    "\n",
    "\n"
   ]
  }
 ],
 "metadata": {
  "kernelspec": {
   "display_name": "Python 3",
   "language": "python",
   "name": "python3"
  },
  "language_info": {
   "codemirror_mode": {
    "name": "ipython",
    "version": 3
   },
   "file_extension": ".py",
   "mimetype": "text/x-python",
   "name": "python",
   "nbconvert_exporter": "python",
   "pygments_lexer": "ipython3",
   "version": "3.11.9"
  }
 },
 "nbformat": 4,
 "nbformat_minor": 2
}
