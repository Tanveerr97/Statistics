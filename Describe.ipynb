{
 "cells": [
  {
   "cell_type": "code",
   "execution_count": 1,
   "metadata": {},
   "outputs": [
    {
     "name": "stdout",
     "output_type": "stream",
     "text": [
      "             Age\n",
      "count  10.000000\n",
      "mean   25.500000\n",
      "std     2.877113\n",
      "min    22.000000\n",
      "25%    23.250000\n",
      "50%    25.000000\n",
      "75%    27.750000\n",
      "max    30.000000\n"
     ]
    }
   ],
   "source": [
    "#  Descriptive Statistics\n",
    "# Descriptive statistics summarize the main features of a dataset\n",
    "import pandas as pd\n",
    "data = {'Age': [22, 25, 29, 30, 22, 23, 27, 24, 28, 25]}\n",
    "df = pd.DataFrame(data)\n",
    "desc_stats = df.describe()  # Basic summary (mean, std, min, max, etc.)\n",
    "print(desc_stats)\n",
    "\n"
   ]
  }
 ],
 "metadata": {
  "kernelspec": {
   "display_name": "Python 3",
   "language": "python",
   "name": "python3"
  },
  "language_info": {
   "codemirror_mode": {
    "name": "ipython",
    "version": 3
   },
   "file_extension": ".py",
   "mimetype": "text/x-python",
   "name": "python",
   "nbconvert_exporter": "python",
   "pygments_lexer": "ipython3",
   "version": "3.11.9"
  }
 },
 "nbformat": 4,
 "nbformat_minor": 2
}
